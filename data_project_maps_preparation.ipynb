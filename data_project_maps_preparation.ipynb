{
 "cells": [
  {
   "cell_type": "markdown",
   "metadata": {},
   "source": [
    "In this notebook we will use how counties in California voted on the questions they were asked at local elections as well as the results of presidential elections. We are going to classify these questions into a few categories (such as education, safety, health) with supervised learning. Then, using unsupervised learning, we will cluster the counties according to how they voted in those categories. We will then see how this matches with presidential elections only, where counties are naturally divided in two sets. The idea is to see whether one needs to look at US politics beyond the two-party system. This is particularly interesting when we allow for more than 2 clusters. Check out the results here http://www.its.caltech.edu/~jgleyzes/dataproject.html"
   ]
  },
  {
   "cell_type": "markdown",
   "metadata": {},
   "source": [
    "# Preparing the full set of data"
   ]
  },
  {
   "cell_type": "code",
   "execution_count": 1,
   "metadata": {
    "collapsed": true
   },
   "outputs": [],
   "source": [
    "import numpy as np\n",
    "import json\n",
    "import pandas as pd\n",
    "from sklearn.model_selection import train_test_split\n",
    "from sklearn.ensemble import RandomForestClassifier\n",
    "from sklearn.ensemble import GradientBoostingClassifier\n",
    "import matplotlib.pyplot as plt\n",
    "from sklearn.feature_extraction.text import TfidfVectorizer\n",
    "from sklearn.preprocessing import StandardScaler\n",
    "from math import pi\n",
    "from sklearn.cluster import KMeans\n",
    "from matplotlib import rc\n",
    "rc('text', usetex=True)\n",
    "%matplotlib inline\n",
    "import folium\n",
    "import base64\n",
    "from folium  import IFrame"
   ]
  },
  {
   "cell_type": "markdown",
   "metadata": {},
   "source": [
    "Here we prepare the data from the local elections"
   ]
  },
  {
   "cell_type": "code",
   "execution_count": 2,
   "metadata": {
    "collapsed": true
   },
   "outputs": [],
   "source": [
    "df_original_data = pd.read_excel('data/ceda1996data.xls')    \n",
    "for i in range(1997,2011):\n",
    "    dfaux = pd.read_excel('data/ceda%sdata.xls'%i)\n",
    "\n",
    "    df_original_data = pd.concat([df_original_data,dfaux])\n",
    "    \n",
    "for i in range(2011,2017):\n",
    "    dfaux = pd.read_excel('data/ceda%sdata.xlsx'%i)\n",
    "\n",
    "    df_original_data = pd.concat([df_original_data,dfaux])\n",
    "\n",
    "\n",
    "df_pollingdata = df_original_data.copy()\n",
    "\n",
    "df_pollingdata['PercentYes'] = df_pollingdata['YES']/df_pollingdata['TOTAL']\n",
    "df_pollingdata['PercentYesbinned'] = pd.cut(df_pollingdata['PercentYes'],4)\n",
    "df_pollingdata['OUTCOME'] = -2*df_pollingdata['OUTCOME']+3\n",
    "df_pollingdata['RECTOPNAME'] = df_pollingdata['RECTOPNAME'].str.replace('.','')\n",
    "df_pollingdata['CNTYNAME'] = df_pollingdata['CNTYNAME'].str.lower().replace('toulumne','tuolumne').replace('san bernadino', 'san bernardino')\n"
   ]
  },
  {
   "cell_type": "markdown",
   "metadata": {},
   "source": [
    "Here we prepare the data from presidential elections (stored in a dictionary according to the year)"
   ]
  },
  {
   "cell_type": "code",
   "execution_count": 3,
   "metadata": {
    "collapsed": false,
    "scrolled": true
   },
   "outputs": [],
   "source": [
    "df_presidentialresults_2016 = pd.read_excel('data/2016_pres.xls')\n",
    "\n",
    "for name in df_presidentialresults_2016.columns:\n",
    "    if '(W/I)' in df_presidentialresults_2016.iloc[0][name]:\n",
    "        del df_presidentialresults_2016[name]\n",
    "    elif name !='Votes not Cast':\n",
    "        namepparty = df_presidentialresults_2016.iloc[0][name]+'_2016'\n",
    "        df_presidentialresults_2016.rename(columns={name:namepparty},inplace=True)\n",
    "    \n",
    "df_presidentialresults_2016 = df_presidentialresults_2016.drop(['  Percent',np.nan]).apply(lambda x: x/x.sum(), axis=1)\n",
    "\n",
    "\n",
    "df_presidentialresults_2012 = pd.read_excel('data/2012_pres.xls')\n",
    "for name in df_presidentialresults_2012.columns:\n",
    "    if '(W/I)' in df_presidentialresults_2012.iloc[0][name]:\n",
    "        del df_presidentialresults_2012[name]\n",
    "    elif  name !='Votes not Cast':\n",
    "        namepparty = df_presidentialresults_2012.iloc[0][name]+'_2012'\n",
    "        df_presidentialresults_2012.rename(columns={name:namepparty},inplace=True)\n",
    "df_presidentialresults_2012 = df_presidentialresults_2012.drop(['  Percent',np.nan]).apply(lambda x: x/x.sum(), axis=1)\n",
    "\n",
    "\n",
    "df_presidentialresults_2008 = pd.read_excel('data/2008_pres.xls')\n",
    "for name in df_presidentialresults_2008.columns:\n",
    "    if '(W/I)' in df_presidentialresults_2008.iloc[0][name]:\n",
    "        del df_presidentialresults_2008[name]\n",
    "    elif  name !='Votes not Cast':\n",
    "        namepparty = df_presidentialresults_2008.iloc[0][name]+'_2008'\n",
    "        df_presidentialresults_2008.rename(columns={name:namepparty},inplace=True)\n",
    "df_presidentialresults_2008 = df_presidentialresults_2008.drop(['  Percent',np.nan]).apply(lambda x: x/x.sum(), axis=1)\n",
    "\n",
    "\n",
    "df_presidentialresults_2004 = pd.read_excel('data/2004_pres.xls')\n",
    "for name in df_presidentialresults_2004.columns:\n",
    "    if name !='Votes not Cast' and '(W/I)' in df_presidentialresults_2004.iloc[0][name]:\n",
    "        del df_presidentialresults_2004[name]\n",
    "    elif  name !='Votes not Cast':\n",
    "        namepparty = df_presidentialresults_2004.iloc[0][name]+'_2004'\n",
    "        df_presidentialresults_2004.rename(columns={name:namepparty},inplace=True)\n",
    "df_presidentialresults_2004 = df_presidentialresults_2004.drop(['  Percent',np.nan]).apply(lambda x: x/x.sum(), axis=1)\n",
    "\n",
    "\n",
    "df_presidentialresults_2000 = pd.read_excel('data/2000_pres.xlsx')\n",
    "df_presidentialresults_2000 = df_presidentialresults_2000[df_presidentialresults_2000.columns.drop(list(df_presidentialresults_2000.filter(regex='Unnamed')))]\n",
    "for name in df_presidentialresults_2000.columns:\n",
    "    if  name !='Votes not Cast':\n",
    "        namepparty=name+'_2000'\n",
    "        df_presidentialresults_2000.rename(columns={name:namepparty},inplace=True)\n",
    "df_presidentialresults_2000 = df_presidentialresults_2000.dropna().drop(['Percent',np.nan]).apply(lambda x: x/x.sum(), axis=1)\n",
    "\n",
    "\n",
    "dict_presidential_years = {'2000': df_presidentialresults_2000,'2004': df_presidentialresults_2004,'2008': df_presidentialresults_2008,'2012': df_presidentialresults_2012,'2016': df_presidentialresults_2016}  \n",
    "\n"
   ]
  },
  {
   "cell_type": "markdown",
   "metadata": {},
   "source": [
    "# Classification positive/negative BALQUEST\n",
    "Before we classify the questions into categories, we need to know if the text will be in favor of the category, or against it. The typical example here are taxes: we can classify the question into positive (tax increase) and negative (tax repeal). We will use this to train a classifier. Then, according to the result, we will change the columns 'PercentYes' to always reflect a positive view on the category."
   ]
  },
  {
   "cell_type": "markdown",
   "metadata": {},
   "source": [
    "Select the questions which concern tax increase (to model positive question) and tax repeal (to model negative question)\n"
   ]
  },
  {
   "cell_type": "code",
   "execution_count": 4,
   "metadata": {
    "collapsed": true
   },
   "outputs": [],
   "source": [
    "mask_positivenegative = df_pollingdata['RECTOPNAME'].isin(['Revenues: Tax Creation/Incr/Contin','Revenues: Tax Repeal/Reduction/Limit'])\n",
    "\n",
    "df_pos_neg = df_pollingdata[mask_positivenegative].replace({'RECTOPNAME':{'Revenues: Tax Creation/Incr/Contin':1,'Revenues: Tax Repeal/Reduction/Limit':-1}})\n",
    "X_data_posneg = df_pos_neg['BALQUEST'].dropna().str.lower().str.replace('city','').str.replace('charter','').str.replace('shall','').str.replace('should','').str.replace('county','').str.replace('\\d+', '').str.replace('$', '').str.replace('no.', '')"
   ]
  },
  {
   "cell_type": "markdown",
   "metadata": {},
   "source": [
    "Train the vectorizer"
   ]
  },
  {
   "cell_type": "code",
   "execution_count": 5,
   "metadata": {
    "collapsed": false
   },
   "outputs": [
    {
     "data": {
      "text/plain": [
       "TfidfVectorizer(analyzer=u'word', binary=False, decode_error=u'strict',\n",
       "        dtype=<type 'numpy.int64'>, encoding=u'utf-8', input=u'content',\n",
       "        lowercase=True, max_df=0.2, max_features=None, min_df=0.0025,\n",
       "        ngram_range=(1, 1), norm=u'l2', preprocessor=None, smooth_idf=True,\n",
       "        stop_words='english', strip_accents=None, sublinear_tf=False,\n",
       "        token_pattern=u'(?u)\\\\b\\\\w\\\\w+\\\\b', tokenizer=None, use_idf=True,\n",
       "        vocabulary=None)"
      ]
     },
     "execution_count": 5,
     "metadata": {},
     "output_type": "execute_result"
    }
   ],
   "source": [
    "df_pollingdata_nonan = df_pollingdata.dropna(axis=0,subset=['BALQUEST'])\n",
    "\n",
    "#Remove a few common strings to help vectorizer\n",
    "df_text_questions = df_pollingdata_nonan['BALQUEST'].str.lower().str.replace('bonds','').str.replace('city','').str.replace('charter','').str.replace('shall','').str.replace('should','').str.replace('county','').str.replace('\\d+', '').str.replace('$', '').str.replace('no.', '')\n",
    "\n",
    "fullcorpus = df_text_questions.copy()\n",
    "tvecfull = TfidfVectorizer(min_df=.0025, max_df=0.2, stop_words='english', ngram_range=(1,1))\n",
    "tvecfull.fit(fullcorpus)"
   ]
  },
  {
   "cell_type": "markdown",
   "metadata": {},
   "source": [
    "Train the classifier"
   ]
  },
  {
   "cell_type": "code",
   "execution_count": 6,
   "metadata": {
    "collapsed": false
   },
   "outputs": [
    {
     "name": "stdout",
     "output_type": "stream",
     "text": [
      "Accuracy of Decision Tree classifier on training set: 0.96\n",
      "Accuracy of Decision Tree classifier on test set: 0.92\n"
     ]
    }
   ],
   "source": [
    "X_datavec_posneg = tvecfull.transform(X_data_posneg)\n",
    "y_data_posneg = df_pos_neg['RECTOPNAME']\n",
    "X_train, X_test, y_train, y_test = train_test_split(X_datavec_posneg, y_data_posneg,random_state=20)\n",
    "clf = GradientBoostingClassifier(learning_rate = 0.08, max_depth = 3, random_state = 0,n_estimators=40).fit(X_train, y_train)\n",
    "print('Accuracy of Decision Tree classifier on training set: {:.2f}'\n",
    "     .format(clf.score(X_train, y_train)))\n",
    "print('Accuracy of Decision Tree classifier on test set: {:.2f}'     .format(clf.score(X_test, y_test)))\n",
    "\n",
    "fullcorpus_vec = tvecfull.transform(fullcorpus)\n",
    "\n",
    "#Applies classifier to full corpus of questions\n",
    "Solpredict_posneg = clf.predict(fullcorpus_vec)"
   ]
  },
  {
   "cell_type": "markdown",
   "metadata": {},
   "source": [
    "# Classification Topic Balquest"
   ]
  },
  {
   "cell_type": "markdown",
   "metadata": {},
   "source": [
    "We choose to classify the questions into six types: \n",
    "'education','safety','health','facilities','recall','tourism'. We also create a category for the questions that correspond to none of the above. We will train a classifier on the questions that contain explicitly the name of the label (and only that name). Then, we will apply the classifier to the ensemble of questions to determine which category they belong to."
   ]
  },
  {
   "cell_type": "code",
   "execution_count": 7,
   "metadata": {
    "collapsed": true
   },
   "outputs": [],
   "source": [
    "labels = ['education','safety','health','facilities','recall','tourism']"
   ]
  },
  {
   "cell_type": "markdown",
   "metadata": {},
   "source": [
    "Removes name of counties from the corpus since they should not matter in the classification"
   ]
  },
  {
   "cell_type": "code",
   "execution_count": 8,
   "metadata": {
    "collapsed": true
   },
   "outputs": [],
   "source": [
    "for name in np.unique(df_pollingdata['CNTYNAME'].values):\n",
    "        df_text_questions = df_text_questions.str.replace(name,'')\n",
    "    \n",
    "for name in np.unique(df_pollingdata['PLACE'].str.lower().values):\n",
    "        df_text_questions = df_text_questions.str.replace(name,'')"
   ]
  },
  {
   "cell_type": "markdown",
   "metadata": {},
   "source": [
    " If label PosNeg is +1, we keep the percentage of Yes. If it's -1, it means the question is negative. \n",
    " Therefore, to only have percentage for acceptance (not rejection) we replace 'PercentYes' by 1-'PercentYes'"
   ]
  },
  {
   "cell_type": "code",
   "execution_count": 9,
   "metadata": {
    "collapsed": true
   },
   "outputs": [],
   "source": [
    "df_pollingdata_Pos_only = df_pollingdata_nonan.copy()\n",
    "df_pollingdata_Pos_only['PosNeg'] = Solpredict_posneg\n",
    "df_pollingdata_Pos_only.loc[df_pollingdata_Pos_only['PosNeg']==-1,'PercentYes'] = 1-df_pollingdata_Pos_only.loc[df_pollingdata_Pos_only['PosNeg']==-1,'PercentYes']"
   ]
  },
  {
   "cell_type": "markdown",
   "metadata": {},
   "source": [
    "Remove a few topics that are not interesting to limit number of features and improve classifier performance.\n"
   ]
  },
  {
   "cell_type": "code",
   "execution_count": 10,
   "metadata": {
    "collapsed": true
   },
   "outputs": [],
   "source": [
    "df_pollingdata_Pos_only.loc[(df_pollingdata_Pos_only['RECTOPNAME'].str.lower().str.contains('governance'))|(df_pollingdata_Pos_only['RECTOPNAME'].str.lower().str.contains('zoning'))|(df_pollingdata_Pos_only['RECTOPNAME'].str.lower().str.contains('land')),'TopicName']='other'"
   ]
  },
  {
   "cell_type": "markdown",
   "metadata": {},
   "source": [
    "Here, we assign a label 'TopicName' to everyone. Then, if a question in df_text_questions contains one of the terms\n",
    "in the list 'labels', and only that term, we change 'TopicName' to that question. All the others are assigned a 'TopicName' = 'notopic' as default.\n"
   ]
  },
  {
   "cell_type": "code",
   "execution_count": 11,
   "metadata": {
    "collapsed": true
   },
   "outputs": [],
   "source": [
    "df_pollingdata_Pos_only['TopicName'] = 'notopic'\n",
    "for term in labels:\n",
    "    excluded = \"|\".join(np.setxor1d(labels, [term]))\n",
    "    df_pollingdata_Pos_only.loc[(df_text_questions.str.contains(term))&(df_text_questions.str.contains(excluded)==False),'TopicName'] = term"
   ]
  },
  {
   "cell_type": "markdown",
   "metadata": {},
   "source": [
    "We use a different vectorizer, containing only 2-grams, because we want more causality"
   ]
  },
  {
   "cell_type": "code",
   "execution_count": 12,
   "metadata": {
    "collapsed": true
   },
   "outputs": [],
   "source": [
    "tvec = TfidfVectorizer(min_df=.0015, max_df=0.07, stop_words='english', ngram_range=(2,2))\n",
    "tvec_weights = tvec.fit_transform(df_text_questions)\n",
    "tvocab = np.array(tvec.get_feature_names())"
   ]
  },
  {
   "cell_type": "markdown",
   "metadata": {},
   "source": [
    "We apply the vectorizer to the dataframe"
   ]
  },
  {
   "cell_type": "code",
   "execution_count": 13,
   "metadata": {
    "collapsed": true
   },
   "outputs": [],
   "source": [
    "X_datatopic = df_pollingdata_Pos_only.loc[(df_pollingdata_Pos_only['TopicName']!='notopic')]['BALQUEST']\n",
    "X_datatopic_vec = pd.DataFrame(tvec.transform(X_datatopic).todense(), columns=tvocab,index=X_datatopic.index)\n",
    "y_datatopic = df_pollingdata_Pos_only.loc[(df_pollingdata_Pos_only['TopicName']!='notopic'),'TopicName']\n",
    "\n",
    "\n",
    "X_remain = df_pollingdata_Pos_only.loc[(df_pollingdata_Pos_only['TopicName']=='notopic')]['BALQUEST']\n",
    "X_remain_vec = pd.DataFrame(tvec.transform(X_remain).todense(), columns=tvocab,index=X_remain.index)\n"
   ]
  },
  {
   "cell_type": "markdown",
   "metadata": {},
   "source": [
    "We normalize the data"
   ]
  },
  {
   "cell_type": "code",
   "execution_count": 14,
   "metadata": {
    "collapsed": false,
    "scrolled": true
   },
   "outputs": [],
   "source": [
    "scaler = StandardScaler()\n",
    "X_traintopic, X_testtopic, y_traintopic, y_testtopic = train_test_split(X_datatopic_vec, y_datatopic,random_state=20)\n",
    "scaler.fit(X_traintopic)\n",
    "X_trainprocessed = scaler.transform(X_traintopic)\n",
    "X_testprocessed = scaler.transform(X_testtopic)"
   ]
  },
  {
   "cell_type": "markdown",
   "metadata": {},
   "source": [
    "We fit the classifier and apply it to the questions"
   ]
  },
  {
   "cell_type": "code",
   "execution_count": 15,
   "metadata": {
    "collapsed": false
   },
   "outputs": [
    {
     "name": "stdout",
     "output_type": "stream",
     "text": [
      "Accuracy of Decision Tree classifier on training set: 0.99\n",
      "Accuracy of Decision Tree classifier on test set: 0.85\n"
     ]
    }
   ],
   "source": [
    "clftop = RandomForestClassifier(n_estimators=200,max_features = 10,random_state=0).fit(X_trainprocessed, y_traintopic)#GradientBoostingClassifier(learning_rate = 0.1, max_depth = 6, random_state = 0,n_estimators=60).fit(X_trainprocessed, y_traintopic)\n",
    "print('Accuracy of Decision Tree classifier on training set: {:.2f}'\n",
    "     .format(clftop.score(X_trainprocessed, y_traintopic)))\n",
    "print('Accuracy of Decision Tree classifier on test set: {:.2f}'\n",
    "      .format(clftop.score(X_testprocessed, y_testtopic)))"
   ]
  },
  {
   "cell_type": "markdown",
   "metadata": {},
   "source": [
    "Assign the predicted labels to the questions"
   ]
  },
  {
   "cell_type": "code",
   "execution_count": 16,
   "metadata": {
    "collapsed": true
   },
   "outputs": [],
   "source": [
    "topredict = scaler.transform(X_remain_vec)\n",
    "df_pollingdata_Pos_only.loc[df_pollingdata_Pos_only['TopicName']=='notopic','TopicName'] = clftop.predict(topredict)"
   ]
  },
  {
   "cell_type": "markdown",
   "metadata": {},
   "source": [
    "Repartion of labels"
   ]
  },
  {
   "cell_type": "code",
   "execution_count": 17,
   "metadata": {
    "collapsed": false,
    "scrolled": true
   },
   "outputs": [
    {
     "data": {
      "image/png": "[encoded data removed]",
      "text/plain": [
       "<matplotlib.figure.Figure at 0x1124ff8d0>"
      ]
     },
     "metadata": {},
     "output_type": "display_data"
    }
   ],
   "source": [
    "df_pollingdata_Pos_only.groupby(['TopicName']).agg({'OUTCOME':np.size}).plot.pie(y='OUTCOME', autopct='%.2f')\n",
    "plt.show()"
   ]
  },
  {
   "cell_type": "markdown",
   "metadata": {},
   "source": [
    "# Preparing the maps\n",
    "Now that we have the data cleaned in df_pollingdata_Pos_only, we can prepare the maps"
   ]
  },
  {
   "cell_type": "code",
   "execution_count": 46,
   "metadata": {
    "collapsed": true
   },
   "outputs": [],
   "source": [
    "def computelabel(Yearmin,Yearmax,df_pollingdata_Pos_only,nclust=2,labels=labels):\n",
    "    \"\"\"\n",
    "    Compute the labels for the counties\n",
    "    \n",
    "    Arguments:\n",
    "    Yearmax -- the maximum year to be included\n",
    "    Yearmin -- the minimum year to be included (typically, = Yearmax -4 to match with presidential cycles) \n",
    "    df_pollingdata_Pos_only -- the dataframe containing the whole electoral data (Ballot questions)\n",
    "    \n",
    "    Returns: \n",
    "    dfCNTYmerge -- the list of counties with their clustering labels and mean vote in the 5 categories\n",
    "    dfclustlabel --  the positions of the clusters center in the space of categories\n",
    "    \"\"\"\n",
    "                        #######################################################################\n",
    "                        ###  Prepare the dataframe with counties and mean vote per category ###\n",
    "                        #######################################################################\n",
    "                \n",
    "    #Choose the relevant years\n",
    "    dfreduced = df_pollingdata_Pos_only[(df_pollingdata_Pos_only['YEAR']>=Yearmin)&(df_pollingdata_Pos_only['YEAR']<=Yearmax)].dropna(axis=0,subset=['BALQUEST'])#[(df_pollingdata['RECTOPNAME'] == 'Education: Bonds')| (df_pollingdata['RECTOPNAME'] == 'Revenues: Tax Creation/Incr./Contin.') | (df_pollingdata['RECTOPNAME'] == 'Education')]\n",
    "    dfpres = dict_presidential_years[str(Yearmax)].copy()\n",
    "\n",
    "    dfpres.index = dfpres.index.str.lower()\n",
    "\n",
    "    dfpres['Winner'] = dfpres.idxmax(axis=1).str[:3]\n",
    "    dfpres = dfpres.replace({'Winner':{'REP':-1,'DEM':1}})\n",
    "    \n",
    "    #Prepare the feature space for the clusters (average yes vote per topic)\n",
    "    dfClustermean = dfreduced.groupby(['CNTYNAME','TopicName']).agg({'PercentYes':[np.mean]})\n",
    "    dfClustermean.columns = dfClustermean.columns.droplevel(0)\n",
    "    \n",
    "    dfCNTYmean = dfClustermean.unstack(level=-1).replace(np.nan,0.5)\n",
    "    dfCNTYmean.columns = dfCNTYmean.columns.droplevel(0)\n",
    "    del dfCNTYmean.index.name\n",
    "    del dfCNTYmean.columns.name\n",
    "\n",
    "    dfCNTY_scaled = pd.DataFrame(scaler.fit_transform(dfCNTYmean),columns=dfCNTYmean.columns,index=dfCNTYmean.index)\n",
    "    \n",
    "    #Merge percentage presidential elections\n",
    "    dfCNTY_plus_percentPres = pd.merge(dfCNTY_scaled,dfpres[np.setxor1d(dfpres.columns, ['Winner'])],left_index=True,right_index=True)\n",
    "\n",
    "                            ########################################################\n",
    "                            ###  Use KMeans clustering to define nclust clusters ###\n",
    "                            ########################################################\n",
    "    \n",
    "\n",
    "    kmeans = KMeans(n_clusters=nclust, random_state=0,n_init=30,max_iter=1000).fit(scaler.fit_transform(dfCNTY_plus_percentPres))\n",
    "    SeriesLabel = pd.Series(kmeans.labels_,index=dfCNTY_plus_percentPres.index)\n",
    "    \n",
    "    #Change Label from \"i\" to 'Lab'+str(i) as well as assigning nan to 'Lab'+str(nclust)\n",
    "    toreplace = range(nclust) + [np.nan]\n",
    "    values = ['Lab' + str(i) for i in range(nclust+1)]\n",
    "    \n",
    "    dfCNTY_plus_percentPres['Label'] = SeriesLabel.replace(to_replace=toreplace,value=values)\n",
    "    \n",
    "    dfCNTYmerge = pd.merge(dfCNTY_plus_percentPres,dfpres,how='left',left_index=True,right_index=True)\n",
    "    \n",
    "    #Order the labels from most Dem to most Rep at the presidential elections\n",
    "    #orderlabelDemtoRep = np.array([ dfCNTYmerge[dfCNTYmerge['Label']==i]['Winner'].mean() for i in range(nclust)]).argsort()[::-1]\n",
    "    \n",
    "    #Change the label so that Lab0 is the most democratic at presidential elections\n",
    "    #changelabel = {orderlabelDemtoRep[l]: 'Lab%s'%l for l in range(nclust)}\n",
    "    #dfCNTYmerge = dfCNTYmerge.replace({\"Label\": changelabel})\n",
    "    \n",
    "    #Get the center of the clusters, sorted from most important to least\n",
    "    order_centroids = kmeans.cluster_centers_.argsort()[:, ::-1]\n",
    "    \n",
    "    terms = dfCNTY_plus_percentPres.columns\n",
    "    clusterlabels = {}\n",
    "    for i in range(nclust):\n",
    "        clusterlabels['Lab'+str(i)]={}\n",
    "        for ind in order_centroids[i, :]:\n",
    "            clusterlabels['Lab'+str(i)][terms[ind]] = kmeans.cluster_centers_[i,ind]\n",
    "    \n",
    "    #Saves the coordinates of the centers in a dataframe\n",
    "    dfclustlabel = pd.DataFrame.from_dict(clusterlabels,orient='index')\n",
    "    \n",
    "    \n",
    "    dfCNTYmerge[labels] = dfCNTYmerge[labels]-dfCNTYmerge[labels].min()\n",
    "    dfCNTYmerge[labels] = dfCNTYmerge[labels]/dfCNTYmerge[labels].max()\n",
    "\n",
    "    \n",
    "    return [dfCNTYmerge,dfclustlabel]"
   ]
  },
  {
   "cell_type": "markdown",
   "metadata": {},
   "source": [
    "We will attach a \"spider plot\" to each county to show how it voted."
   ]
  },
  {
   "cell_type": "code",
   "execution_count": 26,
   "metadata": {
    "collapsed": true
   },
   "outputs": [],
   "source": [
    "def plotspider(df,color,label,lw=2,alpha=0.8,ls='-'):\n",
    "# number of variable\n",
    "    categories=df.index\n",
    "    N = len(categories)\n",
    " \n",
    "# We are going to plot the first line of the data frame.\n",
    "# But we need to repeat the first value to close the circular graph:\n",
    "    values=df.values.tolist()\n",
    "    values += values[:1]\n",
    "    values\n",
    " \n",
    "# What will be the angle of each axis in the plot? (we divide the plot / number of variable)\n",
    "    angles = [n / float(N) * 2 * pi for n in range(N)]\n",
    "    angles += angles[:1]\n",
    " \n",
    "# Initialise the spider plot\n",
    "    ax = plt.subplot(111, polar=True)\n",
    " \n",
    "# Draw one axe per variable + add labels labels yet\n",
    "    plt.xticks(np.array(angles[:-1]), categories, color='black', size=18)\n",
    " \n",
    "# Draw ylabels\n",
    "    ax.set_rlabel_position(160)\n",
    "    plt.yticks([0,0.25,0.5,0.75,1], [\"0\",'',\"0.5\",'',\"1\"], color=\"black\", size=18)\n",
    "    plt.ylim(0,1)\n",
    " \n",
    "# Plot data\n",
    "    ax.plot(angles, values, linewidth=lw, linestyle='solid',color=color,label=label,alpha=alpha,ls=ls)\n",
    "    ax.plot(np.linspace(0.0, 2*np.pi,100), 0.5*np.ones(100),color='grey',alpha=0.6,lw=2,ls='--') \n",
    " \n",
    "# Fill area\n",
    "    ax.fill(angles, values, color, alpha=0.)\n",
    "    \n",
    "    return ax\n"
   ]
  },
  {
   "cell_type": "markdown",
   "metadata": {},
   "source": [
    "We name the label according to how they voted for the presidential election."
   ]
  },
  {
   "cell_type": "code",
   "execution_count": 27,
   "metadata": {
    "collapsed": true
   },
   "outputs": [],
   "source": [
    "dictPercentDEMtoLabel = {}\n",
    "arraypercentDEM = [float(dfCNTYmerge.loc[(dfCNTYmerge['Label']==label)&(dfCNTYmerge['Winner']==1)].shape[0])/dfCNTYmerge.loc[(dfCNTYmerge['Label']==label),'Winner'].shape[0] for label in np.unique(dfCNTYmerge['Label'].values)]\n",
    "\n",
    "for label in np.unique(dfCNTYmerge['Label'].values):\n",
    "        propDEM = float(dfCNTYmerge.loc[(dfCNTYmerge['Label']==label)&(dfCNTYmerge['Winner']==1)].shape[0])/dfCNTYmerge.loc[(dfCNTYmerge['Label']==label),'Winner'].shape[0] \n",
    "        if propDEM >= np.array(arraypercentDEM).max():\n",
    "            labelname = 'Strong DEM'\n",
    "        elif propDEM > 0.5 and propDEM <= np.array(arraypercentDEM).max():\n",
    "            labelname =  'Outliers DEM'\n",
    "        elif propDEM > np.array(arraypercentDEM).min() and propDEM <= 0.5:\n",
    "            labelname = 'Outliers REP'\n",
    "        else:\n",
    "            labelname = 'Strong REP'\n",
    "        dictPercentDEMtoLabel[label] = labelname"
   ]
  },
  {
   "cell_type": "markdown",
   "metadata": {},
   "source": [
    "Example spider plot for period 2008-2012 and 2 clusters"
   ]
  },
  {
   "cell_type": "code",
   "execution_count": 47,
   "metadata": {
    "collapsed": false
   },
   "outputs": [
    {
     "data": {
      "image/png": "[encoded data removed]",
      "text/plain": [
       "<matplotlib.figure.Figure at 0x143ff9290>"
      ]
     },
     "metadata": {},
     "output_type": "display_data"
    }
   ],
   "source": [
    "dfCNTYmerge,dfclustlabel = computelabel(2008,2012,df_pollingdata_Pos_only,nclust=4)\n",
    "\n",
    "#Assign color to each label\n",
    "colorlabel = {'Strong REP':'#cb181d','Strong DEM':'#084594','Outliers REP':'#cb181d','Outliers DEM':'#4292c6','Labn':'#FFFFFF'}\n",
    "\n",
    "#Change string label to number\n",
    "Winnertopres = {'1':'Dem','-1':'Rep'}\n",
    "\n",
    "\n",
    "plt.clf()\n",
    "plotspider(dfCNTYmerge.loc[dfCNTYmerge['Label']=='Lab0',labels].mean(),colorlabel[dictPercentDEMtoLabel['Lab0']],'1st cluster',lw=4,alpha=0.7)\n",
    "plotspider(dfCNTYmerge.loc[dfCNTYmerge['Label']=='Lab1',labels].mean(),colorlabel[dictPercentDEMtoLabel['Lab1']],'2nd cluster',lw=4,alpha=0.7)\n",
    "\n",
    "plotspider(dfCNTYmerge.loc[dfCNTYmerge['Winner']==1,labels].mean(),'#3182BD','Dem',lw=4,alpha=0.7)\n",
    "plotspider(dfCNTYmerge.loc[dfCNTYmerge['Winner']==-1,labels].mean(),'#DE2D26','Rep',lw=4,alpha=0.7)\n",
    "\n",
    "plt.xlabel(r'  \\begin{center}\\vspace{10cm}\\textit{\\Large{' + 'Period 2008-2012' + r'}}\\end{center}')\n",
    "plt.legend(loc='upper center', bbox_to_anchor=(0.5, 1.3),\n",
    "          fancybox=True, shadow=True, ncol=2,fontsize=14)\n",
    "#plt.savefig('data/figtest.png')\n",
    "plt.show()"
   ]
  },
  {
   "cell_type": "markdown",
   "metadata": {},
   "source": [
    "The coordinates of the clusters'center in the multidimensional feature space for this example"
   ]
  },
  {
   "cell_type": "code",
   "execution_count": 104,
   "metadata": {
    "collapsed": false
   },
   "outputs": [
    {
     "data": {
      "text/html": [
       "<div>\n",
       "<table border=\"1\" class=\"dataframe\">\n",
       "  <thead>\n",
       "    <tr style=\"text-align: right;\">\n",
       "      <th></th>\n",
       "      <th>LIB_2012</th>\n",
       "      <th>facilities</th>\n",
       "      <th>GRN_2012</th>\n",
       "      <th>recall</th>\n",
       "      <th>PF_2012</th>\n",
       "      <th>health</th>\n",
       "      <th>REP_2012</th>\n",
       "      <th>safety</th>\n",
       "      <th>education</th>\n",
       "      <th>tourism</th>\n",
       "      <th>AI_2012</th>\n",
       "      <th>DEM_2012</th>\n",
       "    </tr>\n",
       "  </thead>\n",
       "  <tbody>\n",
       "    <tr>\n",
       "      <th>Lab0</th>\n",
       "      <td>0.067400</td>\n",
       "      <td>0.548433</td>\n",
       "      <td>0.484689</td>\n",
       "      <td>-0.183189</td>\n",
       "      <td>-0.397780</td>\n",
       "      <td>0.324511</td>\n",
       "      <td>-1.051365</td>\n",
       "      <td>0.661607</td>\n",
       "      <td>0.693927</td>\n",
       "      <td>0.283673</td>\n",
       "      <td>-0.750908</td>\n",
       "      <td>1.050012</td>\n",
       "    </tr>\n",
       "    <tr>\n",
       "      <th>Lab1</th>\n",
       "      <td>-0.038254</td>\n",
       "      <td>-0.311273</td>\n",
       "      <td>-0.275094</td>\n",
       "      <td>0.103972</td>\n",
       "      <td>0.225767</td>\n",
       "      <td>-0.184182</td>\n",
       "      <td>0.596721</td>\n",
       "      <td>-0.375507</td>\n",
       "      <td>-0.393851</td>\n",
       "      <td>-0.161004</td>\n",
       "      <td>0.426191</td>\n",
       "      <td>-0.595953</td>\n",
       "    </tr>\n",
       "  </tbody>\n",
       "</table>\n",
       "</div>"
      ],
      "text/plain": [
       "      LIB_2012  facilities  GRN_2012    recall   PF_2012    health  REP_2012  \\\n",
       "Lab0  0.067400    0.548433  0.484689 -0.183189 -0.397780  0.324511 -1.051365   \n",
       "Lab1 -0.038254   -0.311273 -0.275094  0.103972  0.225767 -0.184182  0.596721   \n",
       "\n",
       "        safety  education   tourism   AI_2012  DEM_2012  \n",
       "Lab0  0.661607   0.693927  0.283673 -0.750908  1.050012  \n",
       "Lab1 -0.375507  -0.393851 -0.161004  0.426191 -0.595953  "
      ]
     },
     "execution_count": 104,
     "metadata": {},
     "output_type": "execute_result"
    }
   ],
   "source": [
    "dfclustlabel.head()"
   ]
  },
  {
   "cell_type": "markdown",
   "metadata": {},
   "source": [
    "# Plotting on the map"
   ]
  },
  {
   "cell_type": "markdown",
   "metadata": {},
   "source": [
    "Preparing the JSON data for the map. In particular, assign the gps coordinates of the capital to each county."
   ]
  },
  {
   "cell_type": "code",
   "execution_count": 49,
   "metadata": {
    "collapsed": true
   },
   "outputs": [],
   "source": [
    "with open('data/Cacountiesconvert.json', 'r') as f:\n",
    "    get_id = json.load(f)\n",
    "\n",
    "#A little FIPS code type casting to ensure keys match\n",
    "new_geoms = []\n",
    "for geom in get_id['features']:\n",
    "    geom['properties']['NAME'] = geom['properties']['NAME'].lower()\n",
    "    new_geoms.append(geom)\n",
    "\n",
    "get_id['features'] = new_geoms\n",
    "\n",
    "with open('data/Cacountiesconvert.json', 'w') as f:\n",
    "    json.dump(get_id, f)\n",
    "geo_json_data = json.load(open('data/Cacountiesconvert.json'))\n",
    "dflocfull = pd.read_csv('data/countiescapital.csv').rename(columns={'County [2]':'NAME'})\n",
    "dflocfull['NAME'] = dflocfull['NAME'].str.lower()\n",
    "dfloc = dflocfull[dflocfull['State']=='CA'][['NAME','Latitude','Longitude']].set_index('NAME')\n",
    "dfloc['Latitude'] = pd.to_numeric(dfloc['Latitude'].str[:8])\n",
    "dfloc['Longitude'] = - pd.to_numeric(dfloc['Longitude'].str[3:12])"
   ]
  },
  {
   "cell_type": "markdown",
   "metadata": {},
   "source": [
    "Putting everything together to create html files (here with choice of nclust = 2)"
   ]
  },
  {
   "cell_type": "code",
   "execution_count": 53,
   "metadata": {
    "collapsed": false,
    "scrolled": true
   },
   "outputs": [
    {
     "data": {
      "image/png": "[encoded data removed]",
      "text/plain": [
       "<matplotlib.figure.Figure at 0x130d7d190>"
      ]
     },
     "metadata": {},
     "output_type": "display_data"
    }
   ],
   "source": [
    "def my_color_function(df,feature):\n",
    "        if float(df.loc[feature['properties']['NAME'],'Winner']) > 0:\n",
    "            return '#3182BD'\n",
    "        else:\n",
    "            return '#DE2D26'\n",
    "\n",
    "Winnertopres = {1:'Dem',-1:'Rep'}\n",
    "map_1 = folium.Map([35,-120], tiles='Mapbox Bright', zoom_start=5)\n",
    "\n",
    "nclust = 2\n",
    "\n",
    "\n",
    "def addmapPres(Year,map_1):\n",
    "    \n",
    "\n",
    "    dfpres1 = dict_presidential_years[str(Year)].copy()\n",
    "    dfpres1.index = dfpres1.index.str.lower() \n",
    "    dfpres1['Winner'] = dfpres1.idxmax(axis=1).str[:3]\n",
    "    dfpres1 = dfpres1.replace({'Winner':{'REP':-1,'DEM':1}})\n",
    "    map_1.add_child(folium.GeoJson(geo_json_data ,\n",
    "        style_function=lambda feature: {\n",
    "        'fillColor': my_color_function(dfpres1,feature),\n",
    "        'color' : 'black',\n",
    "        'weight' : 2,\n",
    "        'dashArray' : '5, 5',\n",
    "        'fillOpacity':0.9\n",
    "        },name='{} Presidential Elections'.format(Year)))\n",
    "\n",
    "for Year in [2004,2008,2012,2016]:\n",
    "    addmapPres(Year,map_1)\n",
    "   \n",
    "\n",
    "for Yearmax in [2004,2008,2012,2016]:\n",
    "    \n",
    "    dfCNTYmerge,dfclustlabel = computelabel(Yearmax-4,Yearmax,df_pollingdata_Pos_only,nclust=nclust)\n",
    "    \n",
    "    dfCNTYmerged = pd.merge(dfCNTYmerge,dfloc,how='outer',left_index=True,right_index=True)\n",
    "    dfCNTYmerged['Label'].replace(np.nan,'Labn',inplace=True)\n",
    "    \n",
    "    dfpres = dict_presidential_years[str(Yearmax)].copy()\n",
    "    dftot = dfCNTYmerge[labels].mean()\n",
    "    dfpres.index = dfpres.index.str.lower()\n",
    "    \n",
    "    dfpres['Winner'] = dfpres.idxmax(axis=1).str[:3]\n",
    "    dfpres = dfpres.replace({'Winner':{'REP':-1,'DEM':1}})\n",
    " \n",
    "    \n",
    "    dictPercentDEMtoLabel = {}\n",
    "    arraypercentDEM = [dfclustlabel.loc[label,'DEM_%s'%Yearmax] for label in np.unique(dfCNTYmerge['Label'].values)]\n",
    "    strDEM = ''\n",
    "    strREP = ''\n",
    "    for label in np.unique(dfCNTYmerge['Label'].values):\n",
    "        propDEM = dfclustlabel.loc[label,'DEM_%s'%Yearmax] \n",
    "        if propDEM >= np.array(arraypercentDEM).max():\n",
    "            labelname = 'Strong DEM'\n",
    "        elif propDEM >0 and propDEM<np.array(arraypercentDEM).max():\n",
    "            labelname = 'Outliers DEM'+strDEM\n",
    "            strDEM += ' 2nd'\n",
    "        elif propDEM > np.array(arraypercentDEM).min() and propDEM<=0:\n",
    "            labelname = 'Outliers REP'+strREP\n",
    "            strREP += ' 2nd'\n",
    "        else:\n",
    "            labelname = 'Strong REP'\n",
    "        dictPercentDEMtoLabel[label] = labelname\n",
    "    for name in dfCNTYmerged[dfCNTYmerged['Winner'].isnull()].index:\n",
    "        dfCNTYmerged.loc[name,'Winner'] = dfpres.loc[name,'Winner']\n",
    "    for name in dfCNTYmerge.index:\n",
    "        plt.clf()\n",
    "        label = dfCNTYmerge.loc[name,'Label']\n",
    "        \n",
    "        labelname = dictPercentDEMtoLabel[label]   \n",
    "        dname = dfCNTYmerge.loc[name,labels]\n",
    "        \n",
    "        txt = '{} county voted {} in {}, belongs to category {}'.format(name.title(),Winnertopres[int(dfCNTYmerged.loc[name,'Winner'])]\n",
    "                                                                  ,Yearmax,labelname)\n",
    "                    \n",
    "        dlabel = dfCNTYmerge[dfCNTYmerge['Label']==label][labels].mean()\n",
    "        labelname = dictPercentDEMtoLabel[label]\n",
    "        plotspider(dlabel,colorlabel[labelname],labelname,lw=3,alpha=0.7)\n",
    "        plotspider(dftot,'black','Total',lw=3,alpha=0.7)\n",
    "        plotspider(dname,'#8c510a',name.title(),lw=4,alpha=1)\n",
    "        plt.legend(loc='upper center', bbox_to_anchor=(0.5, 1.3),\n",
    "                  fancybox=True, shadow=True, ncol=3,fontsize=14)\n",
    "        plotspider(dname,'#8c510a',name.title(),lw=4,alpha=0)\n",
    "        plt.xlabel(r'  \\begin{center}\\vspace{10cm}\\textit{\\Large{' + txt + r'}}\\end{center}')\n",
    "        \n",
    "        plt.savefig('data/Figs/figspidercounty_%syear_%sclust_%s.png'%(name,Yearmax,nclust), bbox_inches='tight')\n",
    "    \n",
    "    \n",
    "    layermarker = folium.FeatureGroup(name = 'Categories Year {}'.format(Yearmax))\n",
    "    \n",
    "    for name in dfCNTYmerged.index:\n",
    "        label = dfCNTYmerged.loc[name,'Label']\n",
    "        \n",
    "        \n",
    "        if label == 'Labn':\n",
    "            popup = '{} county voted {} in {}, belongs to category {}'.format(name.title(),\n",
    "                                                                              Winnertopres[int(dfCNTYmerged.loc[name,'Winner'])],\n",
    "                                                                              Yearmax,'no info')\n",
    "            layermarker.add_child( folium.RegularPolygonMarker([dfCNTYmerged.loc[name,'Latitude'], dfCNTYmerged.loc[name,'Longitude']],\n",
    "              popup = popup, number_of_sides = 4,radius = 10,\n",
    "              fill_color=colorlabel[label], fill_opacity= 1,opacity=0))\n",
    "        else:\n",
    "            labelname = dictPercentDEMtoLabel[label]\n",
    "            \n",
    "            Filename = 'data/Figs/figspidercounty_%syear_%sclust_%s.png'%(name,Yearmax,nclust)\n",
    "            encoded = base64.b64encode(open(Filename, 'rb').read())\n",
    "            resolution, width, height = 30, 16, 10.5\n",
    "            html = '<img src=\"data:image/png;base64,{}\">'.format\n",
    "            iframe = IFrame(html(encoded), width=(width*resolution)+10, height=(height*resolution)+10)\n",
    "            popup = folium.Popup(iframe, max_width=2650)\n",
    "            layermarker.add_child(folium.RegularPolygonMarker([dfCNTYmerged.loc[name,'Latitude'], dfCNTYmerged.loc[name,'Longitude']],\n",
    "              popup = popup,\n",
    "              number_of_sides = 4,\n",
    "                radius=10,fill_color=colorlabel[labelname], fill_opacity= 1,opacity=0))\n",
    "        map_1.add_child(layermarker)\n",
    "\n",
    "\n",
    "folium.LayerControl().add_to(map_1)    \n",
    "\n",
    "map_1.save('data/map%s.html'%nclust)"
   ]
  },
  {
   "cell_type": "markdown",
   "metadata": {
    "collapsed": true
   },
   "source": [
    "You can look at the results here http://www.its.caltech.edu/~jgleyzes/dataproject.html"
   ]
  },
  {
   "cell_type": "code",
   "execution_count": null,
   "metadata": {
    "collapsed": true
   },
   "outputs": [],
   "source": []
  }
 ],
 "metadata": {
  "kernelspec": {
   "display_name": "Python 2",
   "language": "python",
   "name": "python2"
  },
  "language_info": {
   "codemirror_mode": {
    "name": "ipython",
    "version": 2
   },
   "file_extension": ".py",
   "mimetype": "text/x-python",
   "name": "python",
   "nbconvert_exporter": "python",
   "pygments_lexer": "ipython2",
   "version": "2.7.11"
  }
 },
 "nbformat": 4,
 "nbformat_minor": 2
}
